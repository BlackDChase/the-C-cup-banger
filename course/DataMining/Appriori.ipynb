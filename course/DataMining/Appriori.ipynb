{
 "cells": [
  {
   "cell_type": "markdown",
   "metadata": {},
   "source": [
    "# Finding Association for Store Dataset\n",
    "- Support of `1.5%`\n",
    "- Confidence of `40%`\n",
    "- For $T(X)$ be number of transactions containing X\n",
    "## Support\n",
    "$$\n",
    "    Support(\\{X\\}\\rightarrow \\{Y\\}) = \\frac{T(X,Y)}{T(All)}\n",
    "$$\n",
    "## Confidence\n",
    "$$\n",
    "    Confidence(\\{X\\}\\rightarrow \\{Y\\}) = \\frac{T(X,Y)}{T(X)}\n",
    "$$"
   ]
  },
  {
   "cell_type": "code",
   "execution_count": 1,
   "metadata": {},
   "outputs": [],
   "source": [
    "\"\"\"\n",
    "Data Mining Assignment 2 [Date: 11 Feb 21]\n",
    "\"\"\"\n",
    "__author__='Black D Chase'\n",
    "__version__='0.3.3'"
   ]
  },
  {
   "cell_type": "code",
   "execution_count": 2,
   "metadata": {},
   "outputs": [],
   "source": [
    "# Imports\n",
    "\n",
    "x=!pip show tqdm\n",
    "if 'WARNING' in x[0]:\n",
    "    !pip install tqdm\n",
    "from tqdm import tqdm\n",
    "#For loading bar, to check if it's not stuck. For smaller values of `connectivityCount` and bigger values of n in nConnectivityCount.\n",
    "\n",
    "x=!pip show IPython\n",
    "if 'WARNING' in x[0]:\n",
    "    !pip install IPython\n",
    "from IPython import display\n",
    "#For showing Result Image"
   ]
  },
  {
   "cell_type": "code",
   "execution_count": 3,
   "metadata": {},
   "outputs": [],
   "source": [
    "store = open('testAppriori.csv')\n",
    "pairConnectivity=[]\n",
    "pairConnectivity.append({})\n",
    "associations = {}\n",
    "\n",
    "supportPer = 0.4\n",
    "# Support of 40%\n",
    "\n",
    "minimumSupport = 2\n",
    "# Number of minimum Transaction for it to be considered (Number of trxn*supportPer)\n",
    "\n",
    "confidencePer = 0.6\n",
    "# Confidence of 40%\n",
    "\n",
    "# Change these values to get different result according to the need"
   ]
  },
  {
   "cell_type": "code",
   "execution_count": 4,
   "metadata": {},
   "outputs": [],
   "source": [
    "def nConnectivityCal(n,minimumSupport=2,debugMode=False):\n",
    "    global pairConnectivity\n",
    "    if n<=0:\n",
    "        print(n,\"very small\")\n",
    "        return \n",
    "    if len(pairConnectivity)<n:\n",
    "        nConnectivityCal(n-1,minimumSupport)\n",
    "    if len(pairConnectivity)==n:\n",
    "        pairConnectivity.append({})\n",
    "    if n==1:\n",
    "        for i in pairConnectivity[0].keys():\n",
    "            for j in pairConnectivity[0][i]:\n",
    "                k = frozenset([j])\n",
    "                if k not in pairConnectivity[1].keys():\n",
    "                    pairConnectivity[1][k]=set()\n",
    "                else:\n",
    "                    pairConnectivity[1][k].add(i)\n",
    "    else:\n",
    "        keys = list(pairConnectivity[n-1].keys())\n",
    "        kRange = []\n",
    "        for i in range(len(keys)-1):\n",
    "            for j in range(i+1,len(keys)):\n",
    "                kRange.append([i,j])\n",
    "        for i,j in tqdm(kRange):\n",
    "            intersect = keys[i].intersection(keys[j])\n",
    "            diff = keys[i].symmetric_difference(keys[j])\n",
    "            k=frozenset(intersect.union(diff))\n",
    "            if len(intersect)==n-2 and len(diff)==2:\n",
    "                a = set(pairConnectivity[n-1][keys[i]])\n",
    "                b = set(pairConnectivity[n-1][keys[j]])\n",
    "                chkPocket = a.intersection(b)\n",
    "                if len(chkPocket)>=minimumSupport:\n",
    "                    pairConnectivity[n][k] = set(chkPocket)\n",
    "    return pairConnectivity[n]"
   ]
  },
  {
   "cell_type": "code",
   "execution_count": 5,
   "metadata": {},
   "outputs": [],
   "source": [
    "def findSupport(x,y,debugMode=False):\n",
    "    global minimumSupport, supportPer,pairConnectivity\n",
    "    x = frozenset(x)\n",
    "    y = frozenset(y)\n",
    "    z = x.union(y)\n",
    "    if len(z)>len(pairConnectivity)-1:\n",
    "        nConnectivityCal(len(z),minimumSupport)\n",
    "    try:\n",
    "        totalTransactions = len(pairConnectivity[0].keys())\n",
    "        transactionXY = len(pairConnectivity[len(z)][z])\n",
    "    except:\n",
    "        if debugMode:\n",
    "            print(\"No such transaction\")\n",
    "    # if zero - could be 0,1,2.. (less than min connectivity)\n",
    "    try:\n",
    "        supp=transactionXY/totalTransactions\n",
    "    except:\n",
    "        supp=0\n",
    "        if debugMode:\n",
    "            print(\"Total Number of transaction is 0\")\n",
    "    if debugMode:\n",
    "        print(\"Support: \",supp*100,\"%, where required was \",supportPer*100,\"%\")\n",
    "        print(\"Acceptable\") if (supp>=supportPer) else print(\"Not acceptable\")\n",
    "    return supp"
   ]
  },
  {
   "cell_type": "code",
   "execution_count": 6,
   "metadata": {},
   "outputs": [],
   "source": [
    "def findConfidence(x,y,debugMode=False):\n",
    "    global minimumSupport,confidencePer,pairConnectivity\n",
    "    x = frozenset(x)\n",
    "    y = frozenset(y)\n",
    "    z = x.union(y)\n",
    "    if len(z)>len(pairConnectivity)-1:\n",
    "        nConnectivityCal(len(z),minimumSupport)\n",
    "    try:\n",
    "        transactionX = len(pairConnectivity[len(x)][x])\n",
    "        transactionXY = len(pairConnectivity[len(z)][z])\n",
    "    except:\n",
    "        if debugMode:\n",
    "            print(\"No such transaction\")\n",
    "    # if zero - could be 0,1,2.. (less than min connectivity)\n",
    "    try:\n",
    "        conf = transactionXY/transactionX\n",
    "    except:\n",
    "        conf=0\n",
    "        if debugMode:\n",
    "            print(\"Number of transaction containing \",x,\" is less then \",minimumSupport)\n",
    "    if debugMode:\n",
    "        print(\"Confidence: \",conf*100,\"%, where required was \",confidencePer*100,\"%\")\n",
    "        print(\"Acceptable\") if (conf>=confidencePer) else print(\"Not acceptable\")\n",
    "    return conf"
   ]
  },
  {
   "cell_type": "code",
   "execution_count": 7,
   "metadata": {},
   "outputs": [],
   "source": [
    "def updateAssociation(x,y,debugMode=False):\n",
    "    global associations,supportPer,confidencePer\n",
    "    a,b = set(x),set(y)\n",
    "    temp = str(a) + \" -> \" + str(b)\n",
    "    supp = findSupport(x,y)\n",
    "    conf = findConfidence(x,y)\n",
    "    if supp!=0:\n",
    "        assoMsg = \" Support= \"+str(supp)+\" Confidence= \"+str(conf)\n",
    "        if supp>=supportPer:\n",
    "            assoMsg+=\"\\n Support Acceptable\"\n",
    "        else:\n",
    "            assoMsg+=\"\\n Support Unacceptable\"\n",
    "        if conf>=confidencePer:\n",
    "            assoMsg+=\", Confidence Acceptable\"\n",
    "        else:\n",
    "            assoMsg+=\", Confidence Unacceptable\"\n",
    "        if debugMode:\n",
    "            print(temp,\":\",assoMsg)\n",
    "        associations[temp]=assoMsg\n",
    "        return True\n",
    "    return False"
   ]
  },
  {
   "cell_type": "code",
   "execution_count": 8,
   "metadata": {},
   "outputs": [],
   "source": [
    "# Making ID's for Transactions\n",
    "t=0\n",
    "for i in store.readlines():\n",
    "    x = i.rsplit(',')\n",
    "    x[-1]=x[-1][:-1]\n",
    "    # Removing '\\n'\n",
    "    x=set(x)\n",
    "    if '' in x:\n",
    "        x.remove('')\n",
    "    x=frozenset(x)\n",
    "    pairConnectivity[0][\"TX\"+str(t)]=x\n",
    "    t+=1"
   ]
  },
  {
   "cell_type": "markdown",
   "metadata": {},
   "source": [
    "- `pairConnectivity[0]` will save all transations with respect to thier Transation ID we just made.\n",
    "- `pairConnectivity[n]` will have a dictonary, in which `Items` Is the Item set  with `n` distinguished items. This set will be mapped to set of transaction which have this item set.\n",
    "`frozenset(Items)-> set(transaction(Items))`"
   ]
  },
  {
   "cell_type": "code",
   "execution_count": 9,
   "metadata": {},
   "outputs": [
    {
     "name": "stderr",
     "output_type": "stream",
     "text": [
      "100%|██████████| 10/10 [00:00<00:00, 86659.17it/s]\n",
      "100%|██████████| 3/3 [00:00<00:00, 28859.89it/s]\n",
      "0it [00:00, ?it/s]\n"
     ]
    },
    {
     "data": {
      "text/plain": [
       "{}"
      ]
     },
     "execution_count": 9,
     "metadata": {},
     "output_type": "execute_result"
    }
   ],
   "source": [
    "nConnectivityCal(4,minimumSupport)"
   ]
  },
  {
   "cell_type": "code",
   "execution_count": 10,
   "metadata": {
    "scrolled": true
   },
   "outputs": [
    {
     "data": {
      "text/plain": [
       "{frozenset({'I1', 'I2', 'I3'}): {'TX7', 'TX8'}}"
      ]
     },
     "execution_count": 10,
     "metadata": {},
     "output_type": "execute_result"
    }
   ],
   "source": [
    "pairConnectivity[3]"
   ]
  },
  {
   "cell_type": "markdown",
   "metadata": {},
   "source": [
    "## For all the association rules in this Dataset:"
   ]
  },
  {
   "cell_type": "code",
   "execution_count": 11,
   "metadata": {},
   "outputs": [
    {
     "name": "stderr",
     "output_type": "stream",
     "text": [
      "100%|██████████| 3/3 [00:00<00:00, 9279.43it/s]\n",
      "100%|██████████| 10/10 [00:00<00:00, 21432.31it/s]\n",
      "100%|██████████| 15/15 [00:00<00:00, 63167.23it/s]\n",
      "0it [00:00, ?it/s]\n",
      "100%|██████████| 5/5 [00:00<00:00, 21531.33it/s]\n",
      "100%|██████████| 3/3 [00:00<00:00, 12748.64it/s]\n"
     ]
    }
   ],
   "source": [
    "keys_1 = list(pairConnectivity[1].keys())\n",
    "keys_2 = list(pairConnectivity[2].keys())\n",
    "keys_3 = list(pairConnectivity[3].keys())\n",
    "# Checking Upto 3 levels\n",
    "\n",
    "# 2-2\n",
    "temp = []\n",
    "for i in range(len(keys_2)):\n",
    "    for j in range(i+1,len(keys_2)):\n",
    "        temp.append([i,j])\n",
    "for i,j in tqdm(temp):\n",
    "    x,y = keys_2[i],keys_2[j]\n",
    "    updateAssociation(x,y)\n",
    "    updateAssociation(y,x)\n",
    "\n",
    "# 1-1\n",
    "temp = []\n",
    "for i in range(len(keys_1)):\n",
    "    for j in range(i+1,len(keys_1)):\n",
    "        temp.append([i,j])\n",
    "for i,j in tqdm(temp):\n",
    "    x,y = keys_1[i],keys_1[j]\n",
    "    updateAssociation(x,y)\n",
    "    updateAssociation(y,x)\n",
    "\n",
    "# 1-2\n",
    "temp = []\n",
    "for i in range(len(keys_2)):\n",
    "    for j in range(len(keys_1)):\n",
    "        temp.append([i,j])\n",
    "for i,j in tqdm(temp):\n",
    "    x,y = keys_2[i],keys_1[j]\n",
    "    updateAssociation(y,x)\n",
    "    updateAssociation(x,y)\n",
    "\n",
    "# 3-3\n",
    "temp = []\n",
    "for i in range(len(keys_3)):\n",
    "    for j in range(i+1,len(keys_3)):\n",
    "        temp.append([i,j])\n",
    "for i,j in tqdm(temp):\n",
    "    x,y = keys_3[i],keys_3[j]\n",
    "    updateAssociation(x,y)\n",
    "    updateAssociation(y,x)\n",
    "\n",
    "# 1-3\n",
    "temp = []\n",
    "for i in range(len(keys_1)):\n",
    "    for j in range(len(keys_3)):\n",
    "        temp.append([i,j])\n",
    "for i,j in tqdm(temp):\n",
    "    x,y = keys_1[i],keys_3[j]\n",
    "    updateAssociation(x,y)\n",
    "    updateAssociation(y,x)\n",
    "\n",
    "# 2-3\n",
    "temp = []\n",
    "for i in range(len(keys_2)):\n",
    "    for j in range(len(keys_3)):\n",
    "        temp.append([i,j])\n",
    "for i,j in tqdm(temp):\n",
    "    x,y = keys_2[i],keys_3[j]\n",
    "    updateAssociation(y,x)\n",
    "    updateAssociation(x,y)\n"
   ]
  },
  {
   "cell_type": "code",
   "execution_count": 12,
   "metadata": {
    "scrolled": true
   },
   "outputs": [
    {
     "data": {
      "text/plain": [
       "{\"{'I2', 'I1'} -> {'I2', 'I3'}\": ' Support= 0.2222222222222222 Confidence= 0.6666666666666666\\n Support Unacceptable, Confidence Acceptable',\n",
       " \"{'I2', 'I3'} -> {'I2', 'I1'}\": ' Support= 0.2222222222222222 Confidence= 0.6666666666666666\\n Support Unacceptable, Confidence Acceptable',\n",
       " \"{'I2', 'I1'} -> {'I1', 'I3'}\": ' Support= 0.2222222222222222 Confidence= 0.6666666666666666\\n Support Unacceptable, Confidence Acceptable',\n",
       " \"{'I1', 'I3'} -> {'I2', 'I1'}\": ' Support= 0.2222222222222222 Confidence= 0.5\\n Support Unacceptable, Confidence Unacceptable',\n",
       " \"{'I2', 'I3'} -> {'I1', 'I3'}\": ' Support= 0.2222222222222222 Confidence= 0.6666666666666666\\n Support Unacceptable, Confidence Acceptable',\n",
       " \"{'I1', 'I3'} -> {'I2', 'I3'}\": ' Support= 0.2222222222222222 Confidence= 0.5\\n Support Unacceptable, Confidence Unacceptable',\n",
       " \"{'I2'} -> {'I1'}\": ' Support= 0.3333333333333333 Confidence= 0.5\\n Support Unacceptable, Confidence Unacceptable',\n",
       " \"{'I1'} -> {'I2'}\": ' Support= 0.3333333333333333 Confidence= 0.6\\n Support Unacceptable, Confidence Acceptable',\n",
       " \"{'I2'} -> {'I3'}\": ' Support= 0.3333333333333333 Confidence= 0.5\\n Support Unacceptable, Confidence Unacceptable',\n",
       " \"{'I3'} -> {'I2'}\": ' Support= 0.3333333333333333 Confidence= 0.6\\n Support Unacceptable, Confidence Acceptable',\n",
       " \"{'I1'} -> {'I3'}\": ' Support= 0.4444444444444444 Confidence= 0.8\\n Support Acceptable, Confidence Acceptable',\n",
       " \"{'I3'} -> {'I1'}\": ' Support= 0.4444444444444444 Confidence= 0.8\\n Support Acceptable, Confidence Acceptable',\n",
       " \"{'I2'} -> {'I2', 'I1'}\": ' Support= 0.3333333333333333 Confidence= 0.5\\n Support Unacceptable, Confidence Unacceptable',\n",
       " \"{'I2', 'I1'} -> {'I2'}\": ' Support= 0.3333333333333333 Confidence= 1.0\\n Support Unacceptable, Confidence Acceptable',\n",
       " \"{'I1'} -> {'I2', 'I1'}\": ' Support= 0.3333333333333333 Confidence= 0.6\\n Support Unacceptable, Confidence Acceptable',\n",
       " \"{'I2', 'I1'} -> {'I1'}\": ' Support= 0.3333333333333333 Confidence= 1.0\\n Support Unacceptable, Confidence Acceptable',\n",
       " \"{'I3'} -> {'I2', 'I1'}\": ' Support= 0.2222222222222222 Confidence= 0.4\\n Support Unacceptable, Confidence Unacceptable',\n",
       " \"{'I2', 'I1'} -> {'I3'}\": ' Support= 0.2222222222222222 Confidence= 0.6666666666666666\\n Support Unacceptable, Confidence Acceptable',\n",
       " \"{'I2'} -> {'I2', 'I3'}\": ' Support= 0.3333333333333333 Confidence= 0.5\\n Support Unacceptable, Confidence Unacceptable',\n",
       " \"{'I2', 'I3'} -> {'I2'}\": ' Support= 0.3333333333333333 Confidence= 1.0\\n Support Unacceptable, Confidence Acceptable',\n",
       " \"{'I1'} -> {'I2', 'I3'}\": ' Support= 0.2222222222222222 Confidence= 0.4\\n Support Unacceptable, Confidence Unacceptable',\n",
       " \"{'I2', 'I3'} -> {'I1'}\": ' Support= 0.2222222222222222 Confidence= 0.6666666666666666\\n Support Unacceptable, Confidence Acceptable',\n",
       " \"{'I3'} -> {'I2', 'I3'}\": ' Support= 0.3333333333333333 Confidence= 0.6\\n Support Unacceptable, Confidence Acceptable',\n",
       " \"{'I2', 'I3'} -> {'I3'}\": ' Support= 0.3333333333333333 Confidence= 1.0\\n Support Unacceptable, Confidence Acceptable',\n",
       " \"{'I2'} -> {'I1', 'I3'}\": ' Support= 0.2222222222222222 Confidence= 0.3333333333333333\\n Support Unacceptable, Confidence Unacceptable',\n",
       " \"{'I1', 'I3'} -> {'I2'}\": ' Support= 0.2222222222222222 Confidence= 0.5\\n Support Unacceptable, Confidence Unacceptable',\n",
       " \"{'I1'} -> {'I1', 'I3'}\": ' Support= 0.4444444444444444 Confidence= 0.8\\n Support Acceptable, Confidence Acceptable',\n",
       " \"{'I1', 'I3'} -> {'I1'}\": ' Support= 0.4444444444444444 Confidence= 1.0\\n Support Acceptable, Confidence Acceptable',\n",
       " \"{'I3'} -> {'I1', 'I3'}\": ' Support= 0.4444444444444444 Confidence= 0.8\\n Support Acceptable, Confidence Acceptable',\n",
       " \"{'I1', 'I3'} -> {'I3'}\": ' Support= 0.4444444444444444 Confidence= 1.0\\n Support Acceptable, Confidence Acceptable',\n",
       " \"{'I2'} -> {'I2', 'I1', 'I3'}\": ' Support= 0.2222222222222222 Confidence= 0.3333333333333333\\n Support Unacceptable, Confidence Unacceptable',\n",
       " \"{'I2', 'I1', 'I3'} -> {'I2'}\": ' Support= 0.2222222222222222 Confidence= 1.0\\n Support Unacceptable, Confidence Acceptable',\n",
       " \"{'I1'} -> {'I2', 'I1', 'I3'}\": ' Support= 0.2222222222222222 Confidence= 0.4\\n Support Unacceptable, Confidence Unacceptable',\n",
       " \"{'I2', 'I1', 'I3'} -> {'I1'}\": ' Support= 0.2222222222222222 Confidence= 1.0\\n Support Unacceptable, Confidence Acceptable',\n",
       " \"{'I3'} -> {'I2', 'I1', 'I3'}\": ' Support= 0.2222222222222222 Confidence= 0.4\\n Support Unacceptable, Confidence Unacceptable',\n",
       " \"{'I2', 'I1', 'I3'} -> {'I3'}\": ' Support= 0.2222222222222222 Confidence= 1.0\\n Support Unacceptable, Confidence Acceptable',\n",
       " \"{'I2', 'I1', 'I3'} -> {'I2', 'I1'}\": ' Support= 0.2222222222222222 Confidence= 1.0\\n Support Unacceptable, Confidence Acceptable',\n",
       " \"{'I2', 'I1'} -> {'I2', 'I1', 'I3'}\": ' Support= 0.2222222222222222 Confidence= 0.6666666666666666\\n Support Unacceptable, Confidence Acceptable',\n",
       " \"{'I2', 'I1', 'I3'} -> {'I2', 'I3'}\": ' Support= 0.2222222222222222 Confidence= 1.0\\n Support Unacceptable, Confidence Acceptable',\n",
       " \"{'I2', 'I3'} -> {'I2', 'I1', 'I3'}\": ' Support= 0.2222222222222222 Confidence= 0.6666666666666666\\n Support Unacceptable, Confidence Acceptable',\n",
       " \"{'I2', 'I1', 'I3'} -> {'I1', 'I3'}\": ' Support= 0.2222222222222222 Confidence= 1.0\\n Support Unacceptable, Confidence Acceptable',\n",
       " \"{'I1', 'I3'} -> {'I2', 'I1', 'I3'}\": ' Support= 0.2222222222222222 Confidence= 0.5\\n Support Unacceptable, Confidence Unacceptable'}"
      ]
     },
     "execution_count": 12,
     "metadata": {},
     "output_type": "execute_result"
    }
   ],
   "source": [
    "associations"
   ]
  }
 ],
 "metadata": {
  "kernelspec": {
   "display_name": "Python 3",
   "language": "python",
   "name": "python3"
  },
  "language_info": {
   "codemirror_mode": {
    "name": "ipython",
    "version": 3
   },
   "file_extension": ".py",
   "mimetype": "text/x-python",
   "name": "python",
   "nbconvert_exporter": "python",
   "pygments_lexer": "ipython3",
   "version": "3.8.3"
  }
 },
 "nbformat": 4,
 "nbformat_minor": 4
}
