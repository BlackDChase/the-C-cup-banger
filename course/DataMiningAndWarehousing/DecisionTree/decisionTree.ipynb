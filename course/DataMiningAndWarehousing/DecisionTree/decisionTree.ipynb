{
 "cells": [
  {
   "cell_type": "code",
   "execution_count": 1,
   "metadata": {},
   "outputs": [],
   "source": [
    "\"\"\"\n",
    "Data Mining Matmatical Problem Solver\n",
    "- Decision Tree\n",
    "    -ID3\n",
    "Submission Date: 28 Feb 21\n",
    "\"\"\"\n",
    "__author__='Black D Chase'\n",
    "__version__='0.3.1'"
   ]
  },
  {
   "cell_type": "code",
   "execution_count": 2,
   "metadata": {},
   "outputs": [],
   "source": [
    "# Imports Libraries\n",
    "import math\n",
    "import pandas as pd\n",
    "import numpy as np\n",
    "import sys, os\n",
    "import graphviz"
   ]
  },
  {
   "cell_type": "code",
   "execution_count": 3,
   "metadata": {},
   "outputs": [],
   "source": [
    "class Node():\n",
    "    def __init__(self, index = None, children = [], entropy = 0, depth = 0):\n",
    "        self.index = index\n",
    "        self.entropy = entropy\n",
    "        self.depth = depth\n",
    "        self.attribute = None\n",
    "        self.children = children\n",
    "        self.order = None\n",
    "        self.label = None\n",
    "\n",
    "    def getName(self):\n",
    "        #\"Attribute: \"+str(self.attribute)\n",
    "        self.name=str(self.order)+\" \"+str(self.attribute)+\"\\n \"+str(self.entropy)\n",
    "        return self.name\n",
    "    \n",
    "    def __hash__(self):\n",
    "        return hash(self.getName())\n",
    "\n",
    "    def __eq__(self,other):\n",
    "        if type(self)==type(other):\n",
    "            return self.getName()==other.getName()\n",
    "        return self.name==other\n",
    "    \n",
    "    def setProperties(self, attribute, order):\n",
    "        self.attribute = attribute\n",
    "        self.order = order\n",
    "\n",
    "    def set_label(self, label):\n",
    "        self.label = label"
   ]
  },
  {
   "cell_type": "code",
   "execution_count": 4,
   "metadata": {},
   "outputs": [],
   "source": [
    "class DecisionTreeID3():\n",
    "    def __init__(self):\n",
    "        self.root = None\n",
    "        self.minGain = 1e-2\n",
    "        self.graph = graphviz.Digraph()\n",
    "\n",
    "    def fit(self, data, target):\n",
    "        self.Ntrain = data.count()[0]\n",
    "        self.data = data\n",
    "        self.attributes = list(data)\n",
    "        self.max_depth = len(self.attributes)*2\n",
    "        self.target = target\n",
    "        self.labels = target.unique()\n",
    "\n",
    "        index = range(self.Ntrain)\n",
    "        self.root = Node(index = index, entropy = self.calEntropy(index), depth = 0)\n",
    "        queue = [self.root]\n",
    "        while queue:\n",
    "            node = queue.pop()\n",
    "            if node.depth < self.max_depth or node.entropy < self.minGain:\n",
    "                node.children = self.makePartition(node)\n",
    "                if not node.children: #leaf node\n",
    "                    self._set_label(node)\n",
    "                queue += node.children\n",
    "            else:\n",
    "                self._set_label(node)\n",
    "\n",
    "    def calEntropy(self, index):\n",
    "        if len(index) == 0:\n",
    "            return 0\n",
    "        index = [i for i in index]\n",
    "        freq = np.array(self.target.iloc[index].value_counts())\n",
    "        return self.entropy(freq)\n",
    "\n",
    "    def entropy(self,freq):\n",
    "        freq_0 = freq[np.array(freq).nonzero()[0]]\n",
    "        prob_0 = freq_0/float(freq_0.sum())\n",
    "        return -np.sum(prob_0*np.log(prob_0))\n",
    "\n",
    "    def _set_label(self, node):\n",
    "        target_index = [i + 1 for i in node.index]\n",
    "        node.set_label(self.target[target_index].mode()[0])\n",
    "\n",
    "    def makePartition(self, node):\n",
    "        index = node.index\n",
    "        maxGain = 0\n",
    "        bestmakePartitions = []\n",
    "        decisionAttribute = None\n",
    "        order = None\n",
    "        sub_data = self.data.iloc[index, :]\n",
    "        for i, att in enumerate(self.attributes):\n",
    "            values = self.data.iloc[index, i].unique().tolist()\n",
    "            if len(values) == 1:\n",
    "                continue\n",
    "            splits = []\n",
    "            for val in values:\n",
    "                sub_index = sub_data.index[sub_data[att] == val].tolist()\n",
    "                splits.append([sub_id-1 for sub_id in sub_index])\n",
    "            if min(map(len, splits)) < max(self.Ntrain//10000,2):\n",
    "                continue\n",
    "            HxS= 0\n",
    "            for split in splits:\n",
    "                HxS += len(split)*self.calEntropy(split)/len(index)\n",
    "            gain = node.entropy - HxS\n",
    "            if gain < self.minGain:\n",
    "                continue\n",
    "            if gain > maxGain:\n",
    "                maxGain = gain\n",
    "                bestmakePartitions = splits\n",
    "                decisionAttribute = att\n",
    "                order = values\n",
    "            print(f\"Attribut: {att}, Gain: {gain}, HxS: {HxS}\")\n",
    "        if decisionAttribute is None:\n",
    "            print(f\"No further Partitioning for {node.attribute}\")\n",
    "        else:\n",
    "            print(f\"Descision Attribute: {decisionAttribute}\")\n",
    "        node.setProperties(decisionAttribute, order)\n",
    "        \n",
    "        child_nodes = [Node(\n",
    "            index = split,\n",
    "            entropy = self.calEntropy(split),\n",
    "            depth = node.depth + 1,\n",
    "        ) for split in bestmakePartitions]\n",
    "        \n",
    "        return child_nodes\n",
    "\n",
    "    def predict(self, new_data):\n",
    "        npoints = new_data.count()[0]\n",
    "        labels = [None]*npoints\n",
    "        for n in range(npoints):\n",
    "            x = new_data.iloc[n, :] # one point \n",
    "            # start from root and recursively travel if not meet a leaf \n",
    "            node = self.root\n",
    "            while node.children:\n",
    "                node = node.children[node.order.index(x[node.attribute])]\n",
    "            labels[n] = node.label\n",
    "        return labels\n",
    "    \n",
    "    \n",
    "    def getTree(self):\n",
    "        queue = [self.root]\n",
    "        visited = {}\n",
    "        while len(queue)>0:\n",
    "            node = queue.pop()\n",
    "            visited[node]= node\n",
    "            for i in node.children:\n",
    "                parent=node.getName()\n",
    "                child=i.getName()\n",
    "                self.graph.edge(parent,child)\n",
    "                if i not in visited.keys():\n",
    "                    queue.append(i)\n",
    "\n",
    "    def showTree(self):\n",
    "        self.graph.render(\"OutputID3\")\n",
    "        return self.graph.view()\n",
    "    \n"
   ]
  },
  {
   "cell_type": "code",
   "execution_count": 5,
   "metadata": {},
   "outputs": [
    {
     "name": "stdout",
     "output_type": "stream",
     "text": [
      "   Index Column1 Column2 Column3 Column4 Target\n",
      "0      0     40>    Fast    High    Good    Yes\n",
      "1      1     40>    Slow     Low    Good    Yes\n",
      "2      2     40>    Slow     Low     Bad     No\n",
      "3      3     >40    Fast    High     Bad     No\n",
      "4      4     >40    Fast     Low     Bad    Yes\n",
      "5      5     >40    SLow    High    Good     No\n",
      "6      6     >40    Fast    High    Good     No\n",
      "7      7     40>    Fast     Low     Bad     No\n"
     ]
    }
   ],
   "source": [
    "''' If has no column name,add like this\n",
    "columns = [\"buying\", \"maint\", \"doors\", \"persons\", \"lugboot\", \"safety\"]\n",
    "df = pd.read_csv('car_data.csv', names=columns)\n",
    "df = df.reset_index()\n",
    "del df[\"index\"]\n",
    "#'''\n",
    "df = pd.read_csv('testID3.csv')\n",
    "print(df.head(10))"
   ]
  },
  {
   "cell_type": "code",
   "execution_count": 6,
   "metadata": {},
   "outputs": [
    {
     "data": {
      "text/html": [
       "<div>\n",
       "<style scoped>\n",
       "    .dataframe tbody tr th:only-of-type {\n",
       "        vertical-align: middle;\n",
       "    }\n",
       "\n",
       "    .dataframe tbody tr th {\n",
       "        vertical-align: top;\n",
       "    }\n",
       "\n",
       "    .dataframe thead th {\n",
       "        text-align: right;\n",
       "    }\n",
       "</style>\n",
       "<table border=\"1\" class=\"dataframe\">\n",
       "  <thead>\n",
       "    <tr style=\"text-align: right;\">\n",
       "      <th></th>\n",
       "      <th>Index</th>\n",
       "      <th>Column1</th>\n",
       "      <th>Column2</th>\n",
       "      <th>Column3</th>\n",
       "      <th>Column4</th>\n",
       "    </tr>\n",
       "  </thead>\n",
       "  <tbody>\n",
       "    <tr>\n",
       "      <th>0</th>\n",
       "      <td>0</td>\n",
       "      <td>40&gt;</td>\n",
       "      <td>Fast</td>\n",
       "      <td>High</td>\n",
       "      <td>Good</td>\n",
       "    </tr>\n",
       "    <tr>\n",
       "      <th>1</th>\n",
       "      <td>1</td>\n",
       "      <td>40&gt;</td>\n",
       "      <td>Slow</td>\n",
       "      <td>Low</td>\n",
       "      <td>Good</td>\n",
       "    </tr>\n",
       "    <tr>\n",
       "      <th>2</th>\n",
       "      <td>2</td>\n",
       "      <td>40&gt;</td>\n",
       "      <td>Slow</td>\n",
       "      <td>Low</td>\n",
       "      <td>Bad</td>\n",
       "    </tr>\n",
       "    <tr>\n",
       "      <th>3</th>\n",
       "      <td>3</td>\n",
       "      <td>&gt;40</td>\n",
       "      <td>Fast</td>\n",
       "      <td>High</td>\n",
       "      <td>Bad</td>\n",
       "    </tr>\n",
       "    <tr>\n",
       "      <th>4</th>\n",
       "      <td>4</td>\n",
       "      <td>&gt;40</td>\n",
       "      <td>Fast</td>\n",
       "      <td>Low</td>\n",
       "      <td>Bad</td>\n",
       "    </tr>\n",
       "    <tr>\n",
       "      <th>5</th>\n",
       "      <td>5</td>\n",
       "      <td>&gt;40</td>\n",
       "      <td>SLow</td>\n",
       "      <td>High</td>\n",
       "      <td>Good</td>\n",
       "    </tr>\n",
       "    <tr>\n",
       "      <th>6</th>\n",
       "      <td>6</td>\n",
       "      <td>&gt;40</td>\n",
       "      <td>Fast</td>\n",
       "      <td>High</td>\n",
       "      <td>Good</td>\n",
       "    </tr>\n",
       "    <tr>\n",
       "      <th>7</th>\n",
       "      <td>7</td>\n",
       "      <td>40&gt;</td>\n",
       "      <td>Fast</td>\n",
       "      <td>Low</td>\n",
       "      <td>Bad</td>\n",
       "    </tr>\n",
       "  </tbody>\n",
       "</table>\n",
       "</div>"
      ],
      "text/plain": [
       "   Index Column1 Column2 Column3 Column4\n",
       "0      0     40>    Fast    High    Good\n",
       "1      1     40>    Slow     Low    Good\n",
       "2      2     40>    Slow     Low     Bad\n",
       "3      3     >40    Fast    High     Bad\n",
       "4      4     >40    Fast     Low     Bad\n",
       "5      5     >40    SLow    High    Good\n",
       "6      6     >40    Fast    High    Good\n",
       "7      7     40>    Fast     Low     Bad"
      ]
     },
     "execution_count": 6,
     "metadata": {},
     "output_type": "execute_result"
    }
   ],
   "source": [
    "X = df.iloc[:, :-1]\n",
    "X.head(10)"
   ]
  },
  {
   "cell_type": "code",
   "execution_count": 7,
   "metadata": {},
   "outputs": [
    {
     "data": {
      "text/plain": [
       "0    Yes\n",
       "1    Yes\n",
       "2     No\n",
       "3     No\n",
       "4    Yes\n",
       "5     No\n",
       "6     No\n",
       "7     No\n",
       "Name: Target, dtype: object"
      ]
     },
     "execution_count": 7,
     "metadata": {},
     "output_type": "execute_result"
    }
   ],
   "source": [
    "y = df.iloc[:, -1]\n",
    "y.head(10)"
   ]
  },
  {
   "cell_type": "code",
   "execution_count": 8,
   "metadata": {
    "scrolled": true
   },
   "outputs": [
    {
     "name": "stdout",
     "output_type": "stream",
     "text": [
      "Attribut: Column1, Gain: 0.03382207556860539, HxS: 0.6277411625893767\n",
      "Attribut: Column3, Gain: 0.03382207556860539, HxS: 0.6277411625893767\n",
      "Attribut: Column4, Gain: 0.03382207556860539, HxS: 0.6277411625893767\n",
      "Descision Attribute: Column1\n",
      "No further Partitioning for None\n",
      "Attribut: Column3, Gain: 0.34657359027997264, HxS: 0.34657359027997264\n",
      "Descision Attribute: Column3\n",
      "No further Partitioning for None\n",
      "No further Partitioning for None\n"
     ]
    },
    {
     "data": {
      "text/plain": [
       "['No', 'No', 'No', 'No', 'No', 'No', 'No', 'No']"
      ]
     },
     "execution_count": 8,
     "metadata": {},
     "output_type": "execute_result"
    }
   ],
   "source": [
    "tree = DecisionTreeID3()\n",
    "tree.fit(X, y)\n",
    "tree.getTree()\n",
    "yPredict = tree.predict(X)\n",
    "yPredict"
   ]
  },
  {
   "cell_type": "code",
   "execution_count": 9,
   "metadata": {},
   "outputs": [
    {
     "name": "stdout",
     "output_type": "stream",
     "text": [
      "Accuracy is of 62.5\n"
     ]
    }
   ],
   "source": [
    "acc = (yPredict==y).values.sum()/len(y)\n",
    "print(\"Accuracy is of\",acc*100)"
   ]
  },
  {
   "cell_type": "code",
   "execution_count": 10,
   "metadata": {},
   "outputs": [
    {
     "data": {
      "text/plain": [
       "'OutputID3.pdf'"
      ]
     },
     "execution_count": 10,
     "metadata": {},
     "output_type": "execute_result"
    }
   ],
   "source": [
    "tree.showTree()"
   ]
  }
 ],
 "metadata": {
  "kernelspec": {
   "display_name": "Python 3",
   "language": "python",
   "name": "python3"
  },
  "language_info": {
   "codemirror_mode": {
    "name": "ipython",
    "version": 3
   },
   "file_extension": ".py",
   "mimetype": "text/x-python",
   "name": "python",
   "nbconvert_exporter": "python",
   "pygments_lexer": "ipython3",
   "version": "3.8.3"
  }
 },
 "nbformat": 4,
 "nbformat_minor": 4
}
