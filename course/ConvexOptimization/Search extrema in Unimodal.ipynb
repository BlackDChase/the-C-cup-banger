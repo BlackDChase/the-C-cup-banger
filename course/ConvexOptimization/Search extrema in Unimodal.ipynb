{
 "cells": [
  {
   "cell_type": "code",
   "execution_count": 1,
   "metadata": {},
   "outputs": [],
   "source": [
    "\"\"\"\n",
    "Convex Optimization Assignment 1\n",
    "Question 2\n",
    "Submission Date: 28 Feb 21\n",
    "\"\"\"\n",
    "__author__='Black D Chase'\n",
    "__version__='0.3.1'"
   ]
  },
  {
   "cell_type": "markdown",
   "metadata": {},
   "source": [
    "\n",
    "# Q2. Implmentation of different types of search\n",
    "- Implimenting from scratch\n",
    "- [Dichotomous search](#Dichotomous-Search)\n",
    "- [Fibonacci search](#Fibonacci-Search)\n",
    "- [Golden section search](#Golden-Section-Search)\n",
    "[Run](#Run)"
   ]
  },
  {
   "cell_type": "code",
   "execution_count": 2,
   "metadata": {},
   "outputs": [],
   "source": [
    "from math import cos, tan, sin, e, pi, log "
   ]
  },
  {
   "cell_type": "code",
   "execution_count": 3,
   "metadata": {},
   "outputs": [],
   "source": [
    "def evaluate(f,x):\n",
    "    f = f.replace(\"^\",\"**\")\n",
    "    ans = eval(f)\n",
    "    return ans"
   ]
  },
  {
   "cell_type": "markdown",
   "metadata": {},
   "source": [
    "# Dichotomous Search"
   ]
  },
  {
   "cell_type": "code",
   "execution_count": 4,
   "metadata": {},
   "outputs": [],
   "source": [
    "def dichotomousSearch(f,a,b): \n",
    "    epsilon = (10**(-5))\n",
    "    sign = evaluate(f,a)<evaluate(f,a+3*epsilon)\n",
    "    while b-a>2*epsilon: \n",
    "        m = (b-a)/2 \n",
    "        c,d = m-epsilon,m+epsilon \n",
    "        fc = evaluate(f,c)\n",
    "        fd = evaluate(f,d)\n",
    "        if a<c and c<d and d<b:  \n",
    "            if (fc > fd)^(sign):\n",
    "                a=c\n",
    "            else:\n",
    "                b=d \n",
    "        else: \n",
    "            break \n",
    "    ans = format(evaluate(f,(a+b)/2),\"0.5f\")+\" at \"+format((a+b)/2,\"0.5f\")\n",
    "    return ans"
   ]
  },
  {
   "cell_type": "markdown",
   "metadata": {},
   "source": [
    "# Fibonacci Search"
   ]
  },
  {
   "cell_type": "code",
   "execution_count": 5,
   "metadata": {},
   "outputs": [],
   "source": [
    "fibs = [0,1]\n",
    "def makeFib(i):\n",
    "    if len(fibs)>=i:\n",
    "        return fibs[i-1]\n",
    "    t = makeFib(i-1)+makeFib(i-2)\n",
    "    fibs.append(t)\n",
    "    \n",
    "def getFib(n,i=2):\n",
    "    if len(fibs)<i:\n",
    "        makeFib(i)\n",
    "    if fibs[i-1]>n:\n",
    "        return fibs[i-1]\n",
    "    return getFib(n,i+1)"
   ]
  },
  {
   "cell_type": "code",
   "execution_count": 6,
   "metadata": {},
   "outputs": [],
   "source": [
    "def fibonacciSearch(f,a,b):\n",
    "    epsilon = (10**(-5))\n",
    "    sign = evaluate(f,a)<evaluate(f,a+3*epsilon)\n",
    "    fn = getFib((b-a)/epsilon)\n",
    "    n = fibs.index(fn)\n",
    "    epsilon = (b-a)/fn\n",
    "    c = a+(fibs[n-2]/fibs[n])*(b-a)\n",
    "    d = a+(fibs[n-1]/fibs[n])*(b-a)\n",
    "    fc,fd = evaluate(f,c),evaluate(f,d)\n",
    "    while n>2:\n",
    "        n=n-1\n",
    "        if a<c and c<d and d<b:  \n",
    "            if (fc < fd)^(sign):\n",
    "                b = d\n",
    "                d = c\n",
    "                fd = fc\n",
    "                c = a+(fibs[n-2]/fibs[n])*(b-a)\n",
    "                fc = evaluate(f,c)\n",
    "            else:\n",
    "                a = c\n",
    "                c = d\n",
    "                fc = fd\n",
    "                d = a+(fibs[n-1]/fibs[n])*(b-a)\n",
    "                fd = evaluate(f,d)\n",
    "        else: \n",
    "            break \n",
    "    ans = format(evaluate(f,(a+b)/2),\"0.5f\")+\" at \"+format((a+b)/2,\"0.5f\")\n",
    "    return ans\n",
    "    \n",
    "    "
   ]
  },
  {
   "cell_type": "markdown",
   "metadata": {},
   "source": [
    "# Golden Section Search"
   ]
  },
  {
   "cell_type": "code",
   "execution_count": 7,
   "metadata": {},
   "outputs": [],
   "source": [
    "def goldenSectionSearch(f,a,b): \n",
    "    epsilon = (10**(-5)) \n",
    "    sign = evaluate(f,a)<evaluate(f,a+3*epsilon) \n",
    "    phi = (1+5**(1/2))/2 \n",
    "    # 1/phi = phi -1, Property of golden ratio \n",
    "    c = b + (a-b)*(phi-1) \n",
    "    d = a + (b-a)*(phi-1) \n",
    "    fc,fd = evaluate(f,c),evaluate(f,d) \n",
    "    while b-a>epsilon: \n",
    "        if a<c and c<d and d<b:   \n",
    "            if (fc < fd)^(sign): \n",
    "                b = d \n",
    "                d = c \n",
    "                fd = fc \n",
    "                c = b + (a-b)*(phi-1) \n",
    "                fc = evaluate(f,c) \n",
    "            else: \n",
    "                a = c \n",
    "                c = d \n",
    "                fc = fd \n",
    "                d = a + (b-a)*(phi-1) \n",
    "                fd = evaluate(f,d) \n",
    "        else:  \n",
    "            break  \n",
    "    ans = format(evaluate(f,(a+b)/2),\"0.5f\")+\" at \"+format((a+b)/2,\"0.5f\") \n",
    "    return ans "
   ]
  },
  {
   "cell_type": "markdown",
   "metadata": {},
   "source": [
    "# Run\n",
    "- Only for Unimodal Function $f$ in domain $[a,b]$\n",
    "- Has to be defined in $[a,b]$"
   ]
  },
  {
   "cell_type": "code",
   "execution_count": 8,
   "metadata": {},
   "outputs": [],
   "source": [
    "f = \"-(x^(2))/2 +pi*log(x+1)\"\n",
    "a , b = [0,500]"
   ]
  },
  {
   "cell_type": "code",
   "execution_count": 9,
   "metadata": {},
   "outputs": [
    {
     "data": {
      "text/plain": [
       "'1.76123 at 1.46485'"
      ]
     },
     "execution_count": 9,
     "metadata": {},
     "output_type": "execute_result"
    }
   ],
   "source": [
    "dichotomousSearch(f,a,b)"
   ]
  },
  {
   "cell_type": "code",
   "execution_count": 10,
   "metadata": {},
   "outputs": [
    {
     "data": {
      "text/plain": [
       "'1.77303 at 1.34163'"
      ]
     },
     "execution_count": 10,
     "metadata": {},
     "output_type": "execute_result"
    }
   ],
   "source": [
    "fibonacciSearch(f,a,b)"
   ]
  },
  {
   "cell_type": "code",
   "execution_count": 11,
   "metadata": {},
   "outputs": [
    {
     "data": {
      "text/plain": [
       "'1.77303 at 1.34163'"
      ]
     },
     "execution_count": 11,
     "metadata": {},
     "output_type": "execute_result"
    }
   ],
   "source": [
    "goldenSectionSearch(f,a,b)"
   ]
  },
  {
   "cell_type": "code",
   "execution_count": 12,
   "metadata": {},
   "outputs": [],
   "source": [
    "g = \"(x^(3))/3 - (x^(2))/2 - x - 1\"\n",
    "y , z = [0,500]"
   ]
  },
  {
   "cell_type": "code",
   "execution_count": 13,
   "metadata": {},
   "outputs": [
    {
     "data": {
      "text/plain": [
       "'-2.48999 at 1.46485'"
      ]
     },
     "execution_count": 13,
     "metadata": {},
     "output_type": "execute_result"
    }
   ],
   "source": [
    "dichotomousSearch(g,y,z)"
   ]
  },
  {
   "cell_type": "code",
   "execution_count": 14,
   "metadata": {},
   "outputs": [
    {
     "data": {
      "text/plain": [
       "'-2.51503 at 1.61803'"
      ]
     },
     "execution_count": 14,
     "metadata": {},
     "output_type": "execute_result"
    }
   ],
   "source": [
    "fibonacciSearch(g,y,z)"
   ]
  },
  {
   "cell_type": "code",
   "execution_count": 15,
   "metadata": {},
   "outputs": [
    {
     "data": {
      "text/plain": [
       "'-2.51503 at 1.61803'"
      ]
     },
     "execution_count": 15,
     "metadata": {},
     "output_type": "execute_result"
    }
   ],
   "source": [
    "goldenSectionSearch(g,y,z)"
   ]
  }
 ],
 "metadata": {
  "kernelspec": {
   "display_name": "Python 3",
   "language": "python",
   "name": "python3"
  },
  "language_info": {
   "codemirror_mode": {
    "name": "ipython",
    "version": 3
   },
   "file_extension": ".py",
   "mimetype": "text/x-python",
   "name": "python",
   "nbconvert_exporter": "python",
   "pygments_lexer": "ipython3",
   "version": "3.8.3"
  }
 },
 "nbformat": 4,
 "nbformat_minor": 4
}
